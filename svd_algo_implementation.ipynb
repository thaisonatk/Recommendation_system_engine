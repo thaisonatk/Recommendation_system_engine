{
 "cells": [
  {
   "cell_type": "code",
   "execution_count": 1,
   "metadata": {},
   "outputs": [],
   "source": [
    "import numpy as np\n",
    "import pandas as pd\n",
    "\n",
    "import surprise\n",
    "from surprise import NormalPredictor\n",
    "from surprise import Dataset\n",
    "from surprise import Reader\n",
    "from surprise.model_selection import cross_validate\n",
    "import warnings; warnings.simplefilter('ignore')"
   ]
  },
  {
   "cell_type": "code",
   "execution_count": null,
   "metadata": {},
   "outputs": [],
   "source": [
    "class MatrixFacto(surprise.AlgoBase) :\n",
    "    def __init__ (self, learning_rate, n_epochs, n_factors) :\n",
    "        self.lr = learning_rate # learning rate for SGD\n",
    "        self.n_epochs = n_epochs # number of iterations of SGD \n",
    "        self.n_factors = n_factors # number of factors\n",
    "\n",
    "    def fit(self, trainset) :\n",
    "        '''learn the vector p_u and q_i with SGD'''\n",
    "\n",
    "        print(\"fitting data with SGD\")\n",
    "\n",
    "        # random initialize the user and item factors.\n",
    "        p = np.random.normal(0, 1., (trainset.n_users, self.n_factors))\n",
    "        q = np.random.normal(0, 1., (trainset.n_items, self.n_factors))\n",
    "\n",
    "        # SGD run\n",
    "        for _ in range (self.n_epochs) :\n",
    "            for u,i,r_ui in trainset.all() :\n",
    "                err = r_ui - np.dot(p[u],q[i])\n",
    "\n",
    "                p[u] += self.lr * err * q[i]\n",
    "                q[i] += self.lr * err * p[u]\n",
    "\n",
    "        self.p = p\n",
    "        self.q = q\n",
    "        self.trainset = trainset\n",
    "\n",
    "        def estimate(self, u ,i) :\n",
    "            \n"
   ]
  }
 ],
 "metadata": {
  "kernelspec": {
   "display_name": "sona1",
   "language": "python",
   "name": "python3"
  },
  "language_info": {
   "codemirror_mode": {
    "name": "ipython",
    "version": 3
   },
   "file_extension": ".py",
   "mimetype": "text/x-python",
   "name": "python",
   "nbconvert_exporter": "python",
   "pygments_lexer": "ipython3",
   "version": "3.10.9"
  }
 },
 "nbformat": 4,
 "nbformat_minor": 2
}
